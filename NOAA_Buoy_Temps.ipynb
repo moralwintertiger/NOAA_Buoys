{
 "cells": [
  {
   "cell_type": "markdown",
   "metadata": {},
   "source": [
    "# Collecting/parsing/utilizing data from SF Bay NOAA buoys\n",
    "\n",
    "This notebook shows the scraping of NOAA buoy data and the construction of a number of functions to display either real-time or historical data, organized by geography. "
   ]
  },
  {
   "cell_type": "code",
   "execution_count": 1,
   "metadata": {},
   "outputs": [],
   "source": [
    "#Import libraries\n",
    "\n",
    "\n",
    "from datetime import datetime, timedelta\n",
    "import gzip\n",
    "import numpy as np\n",
    "import requests\n",
    "import urllib\n",
    "import requests\n",
    "from urllib.request import Request, urlopen \n",
    "import re\n",
    "\n",
    "import matplotlib.pyplot as plt\n",
    "import pandas as pd\n",
    "%matplotlib inline\n",
    "import seaborn\n",
    "from bs4 import BeautifulSoup\n",
    "from matplotlib.pyplot import figure\n",
    "\n"
   ]
  },
  {
   "cell_type": "code",
   "execution_count": 31,
   "metadata": {},
   "outputs": [],
   "source": [
    "#Set URLs to work with. These can be found by checking the noaa website, which organizes data into different pages\n",
    "#depending on the type of data. \n",
    "\n",
    "_BASEURL = 'http://www.ndbc.noaa.gov/data'\n",
    "_SENSOR_URL = _BASEURL+'/stations/buoyht.txt'\n",
    "_REALTIME_URL = _BASEURL+'/realtime2/'\n",
    "_RECENT_URL = _BASEURL+'/stdmet/'\n",
    "_HISTORICAL_URL = _BASEURL+'/historical/stdmet/'\n",
    "_STATION_URL = _BASEURL+'/stations/station_table.txt'"
   ]
  },
  {
   "cell_type": "markdown",
   "metadata": {},
   "source": [
    "## Build functions to retrieve and parse real-time info from buoys\n",
    "\n",
    "These functions, with slight modifications, are generally useful. Here, they are used to create lists of url links with specific types of information in them. For example, all \".txt.\" links contain data on water temperature. Calling this function with different extensions therefore allows for a parallel path to be added to a pipeline."
   ]
  },
  {
   "cell_type": "code",
   "execution_count": 3,
   "metadata": {},
   "outputs": [
    {
     "data": {
      "text/html": [
       "<div>\n",
       "<style scoped>\n",
       "    .dataframe tbody tr th:only-of-type {\n",
       "        vertical-align: middle;\n",
       "    }\n",
       "\n",
       "    .dataframe tbody tr th {\n",
       "        vertical-align: top;\n",
       "    }\n",
       "\n",
       "    .dataframe thead th {\n",
       "        text-align: right;\n",
       "    }\n",
       "</style>\n",
       "<table border=\"1\" class=\"dataframe\">\n",
       "  <thead>\n",
       "    <tr style=\"text-align: right;\">\n",
       "      <th></th>\n",
       "      <th>links</th>\n",
       "      <th>buoys</th>\n",
       "    </tr>\n",
       "  </thead>\n",
       "  <tbody>\n",
       "    <tr>\n",
       "      <th>0</th>\n",
       "      <td>32ST0.txt</td>\n",
       "      <td>32ST0</td>\n",
       "    </tr>\n",
       "    <tr>\n",
       "      <th>1</th>\n",
       "      <td>41NT0.txt</td>\n",
       "      <td>41NT0</td>\n",
       "    </tr>\n",
       "    <tr>\n",
       "      <th>2</th>\n",
       "      <td>45T01.txt</td>\n",
       "      <td>45T01</td>\n",
       "    </tr>\n",
       "    <tr>\n",
       "      <th>3</th>\n",
       "      <td>46T29.txt</td>\n",
       "      <td>46T29</td>\n",
       "    </tr>\n",
       "    <tr>\n",
       "      <th>4</th>\n",
       "      <td>51WH0.txt</td>\n",
       "      <td>51WH0</td>\n",
       "    </tr>\n",
       "  </tbody>\n",
       "</table>\n",
       "</div>"
      ],
      "text/plain": [
       "       links  buoys\n",
       "0  32ST0.txt  32ST0\n",
       "1  41NT0.txt  41NT0\n",
       "2  45T01.txt  45T01\n",
       "3  46T29.txt  46T29\n",
       "4  51WH0.txt  51WH0"
      ]
     },
     "execution_count": 3,
     "metadata": {},
     "output_type": "execute_result"
    }
   ],
   "source": [
    "from bs4 import BeautifulSoup\n",
    "from urllib.request import Request, urlopen\n",
    "import re\n",
    "\n",
    "_REAL_TIME_DATA_URL = \"https://www.ndbc.noaa.gov/data/realtime2\"\n",
    "\n",
    "\n",
    "\n",
    "def get_links_from_lxml(url, ext):\n",
    "    \"\"\"\n",
    "    With starting url and page extensions, parses page and pulls all links with that extension.\n",
    "    \"\"\"\n",
    "    req = Request(url)\n",
    "    html_page = urlopen(req)\n",
    "    soup = BeautifulSoup(html_page, \"lxml\")\n",
    "    ext_link_list = []\n",
    "    ext_object_list = []\n",
    "    links = []\n",
    "    for link in soup.findAll('a'): \n",
    "        links.append(link.get('href'))\n",
    "    for entry in links:\n",
    "        if str(ext) in entry:\n",
    "            ext_link_list.append(entry)\n",
    "            ext_object_list.append(entry[:-4])\n",
    "    return ext_link_list, ext_object_list\n",
    "       \n",
    "#head(get_links_from_lxml(\"https://www.ndbc.noaa.gov/data/realtime2\", \".txt\"))\n",
    "get_links_df = pd.DataFrame({\"links\": get_links_from_lxml(\"https://www.ndbc.noaa.gov/data/realtime2\", \".txt\")[0], \n",
    "                             \"buoys\": get_links_from_lxml(\"https://www.ndbc.noaa.gov/data/realtime2\", \".txt\")[1]})\n",
    "get_links_df.head()\n"
   ]
  },
  {
   "cell_type": "markdown",
   "metadata": {},
   "source": [
    "## Get coordinates for buoys from their URLs\n",
    "\n",
    "https://www.ndbc.noaa.gov/data/stations/station_table.txt is a list of all buoys controlled by NOAA. This table can be scraped to give latitude and longitude info for each buoy. "
   ]
  },
  {
   "cell_type": "code",
   "execution_count": 4,
   "metadata": {},
   "outputs": [
    {
     "data": {
      "text/html": [
       "<div>\n",
       "<style scoped>\n",
       "    .dataframe tbody tr th:only-of-type {\n",
       "        vertical-align: middle;\n",
       "    }\n",
       "\n",
       "    .dataframe tbody tr th {\n",
       "        vertical-align: top;\n",
       "    }\n",
       "\n",
       "    .dataframe thead th {\n",
       "        text-align: right;\n",
       "    }\n",
       "</style>\n",
       "<table border=\"1\" class=\"dataframe\">\n",
       "  <thead>\n",
       "    <tr style=\"text-align: right;\">\n",
       "      <th></th>\n",
       "      <th>Buoy_IDs</th>\n",
       "      <th>Coords</th>\n",
       "      <th>latitude</th>\n",
       "      <th>longitude</th>\n",
       "    </tr>\n",
       "  </thead>\n",
       "  <tbody>\n",
       "    <tr>\n",
       "      <th>0</th>\n",
       "      <td>00922</td>\n",
       "      <td>30.000 N 90.000 W</td>\n",
       "      <td>30.0</td>\n",
       "      <td>-90.0</td>\n",
       "    </tr>\n",
       "    <tr>\n",
       "      <th>1</th>\n",
       "      <td>00923</td>\n",
       "      <td>30.000 N 90.000 W</td>\n",
       "      <td>30.0</td>\n",
       "      <td>-90.0</td>\n",
       "    </tr>\n",
       "    <tr>\n",
       "      <th>2</th>\n",
       "      <td>01500</td>\n",
       "      <td>30.000 N 90.000 W</td>\n",
       "      <td>30.0</td>\n",
       "      <td>-90.0</td>\n",
       "    </tr>\n",
       "    <tr>\n",
       "      <th>3</th>\n",
       "      <td>01502</td>\n",
       "      <td>30.000 N 90.000 W</td>\n",
       "      <td>30.0</td>\n",
       "      <td>-90.0</td>\n",
       "    </tr>\n",
       "    <tr>\n",
       "      <th>4</th>\n",
       "      <td>01503</td>\n",
       "      <td>30.000 N 90.000 W</td>\n",
       "      <td>30.0</td>\n",
       "      <td>-90.0</td>\n",
       "    </tr>\n",
       "  </tbody>\n",
       "</table>\n",
       "</div>"
      ],
      "text/plain": [
       "  Buoy_IDs              Coords  latitude  longitude\n",
       "0    00922  30.000 N 90.000 W       30.0      -90.0\n",
       "1    00923  30.000 N 90.000 W       30.0      -90.0\n",
       "2    01500  30.000 N 90.000 W       30.0      -90.0\n",
       "3    01502  30.000 N 90.000 W       30.0      -90.0\n",
       "4    01503  30.000 N 90.000 W       30.0      -90.0"
      ]
     },
     "execution_count": 4,
     "metadata": {},
     "output_type": "execute_result"
    }
   ],
   "source": [
    "#All buoy coordinates are collected:\n",
    "\n",
    "def get_all_coordinates(url):\n",
    "    \"\"\"\n",
    "    Generates a pandas data frame of buoy IDs and longitude/latitude values.\n",
    "    \"\"\"\n",
    "    r = requests.get(url)\n",
    "    lines = r.text.split('\\n')\n",
    "    \n",
    "    #buoy IDs and coordinates can be split into separate lists:\n",
    "    buoy_ids = [line.split(\"|\")[0] for line in lines[2:len(lines)-1]]\n",
    "    coords = [line.split(\"|\")[6].split(\"(\")[0] for line in lines[2:len(lines)-1]]\n",
    "    \n",
    "    #Initialize pandas dataframe with buoy ids and coordinates:    \n",
    "    coordinates_df = pd.DataFrame({\"Buoy_IDs\" : buoy_ids, \"Coords\" : coords})\n",
    "    \n",
    "    #Use conditional list comprehension to split coordinates into plottable data:\n",
    "    coordinates_df[\"latitude\"] = [float(t.split()[0]) if t.split()[1] ==\"N\" else -float(t.split()[0]) for t in coordinates_df['Coords']]\n",
    "    coordinates_df[\"longitude\"] = [float(t.split()[2]) if t.split()[3] == \"E\" else -float(t.split()[2]) for t in coordinates_df['Coords']]\n",
    "       \n",
    "    return coordinates_df\n",
    "        \n",
    "get_all_coordinates(\"https://www.ndbc.noaa.gov/data/stations/station_table.txt\").head()"
   ]
  },
  {
   "cell_type": "markdown",
   "metadata": {},
   "source": [
    "### Sanity check"
   ]
  },
  {
   "cell_type": "code",
   "execution_count": 13,
   "metadata": {},
   "outputs": [
    {
     "data": {
      "text/html": [
       "<div>\n",
       "<style scoped>\n",
       "    .dataframe tbody tr th:only-of-type {\n",
       "        vertical-align: middle;\n",
       "    }\n",
       "\n",
       "    .dataframe tbody tr th {\n",
       "        vertical-align: top;\n",
       "    }\n",
       "\n",
       "    .dataframe thead th {\n",
       "        text-align: right;\n",
       "    }\n",
       "</style>\n",
       "<table border=\"1\" class=\"dataframe\">\n",
       "  <thead>\n",
       "    <tr style=\"text-align: right;\">\n",
       "      <th></th>\n",
       "      <th>latitude</th>\n",
       "      <th>longitude</th>\n",
       "    </tr>\n",
       "  </thead>\n",
       "  <tbody>\n",
       "    <tr>\n",
       "      <th>count</th>\n",
       "      <td>1817.000000</td>\n",
       "      <td>1817.000000</td>\n",
       "    </tr>\n",
       "    <tr>\n",
       "      <th>mean</th>\n",
       "      <td>34.461335</td>\n",
       "      <td>-80.883197</td>\n",
       "    </tr>\n",
       "    <tr>\n",
       "      <th>std</th>\n",
       "      <td>15.494737</td>\n",
       "      <td>62.564222</td>\n",
       "    </tr>\n",
       "    <tr>\n",
       "      <th>min</th>\n",
       "      <td>-55.000000</td>\n",
       "      <td>-179.903000</td>\n",
       "    </tr>\n",
       "    <tr>\n",
       "      <th>25%</th>\n",
       "      <td>27.890000</td>\n",
       "      <td>-117.444000</td>\n",
       "    </tr>\n",
       "    <tr>\n",
       "      <th>50%</th>\n",
       "      <td>33.865000</td>\n",
       "      <td>-87.901000</td>\n",
       "    </tr>\n",
       "    <tr>\n",
       "      <th>75%</th>\n",
       "      <td>43.762000</td>\n",
       "      <td>-75.739000</td>\n",
       "    </tr>\n",
       "    <tr>\n",
       "      <th>max</th>\n",
       "      <td>75.778000</td>\n",
       "      <td>179.012000</td>\n",
       "    </tr>\n",
       "  </tbody>\n",
       "</table>\n",
       "</div>"
      ],
      "text/plain": [
       "          latitude    longitude\n",
       "count  1817.000000  1817.000000\n",
       "mean     34.461335   -80.883197\n",
       "std      15.494737    62.564222\n",
       "min     -55.000000  -179.903000\n",
       "25%      27.890000  -117.444000\n",
       "50%      33.865000   -87.901000\n",
       "75%      43.762000   -75.739000\n",
       "max      75.778000   179.012000"
      ]
     },
     "execution_count": 13,
     "metadata": {},
     "output_type": "execute_result"
    }
   ],
   "source": [
    "all_coordinates = get_all_coordinates(\"https://www.ndbc.noaa.gov/data/stations/station_table.txt\")\n",
    "all_coordinates.describe()"
   ]
  },
  {
   "cell_type": "code",
   "execution_count": 5,
   "metadata": {},
   "outputs": [
    {
     "data": {
      "image/png": "[encoded data removed]",
      "text/plain": [
       "<Figure size 432x288 with 1 Axes>"
      ]
     },
     "metadata": {},
     "output_type": "display_data"
    }
   ],
   "source": [
    "# Plot all buoy coordinates from above\n",
    "\n",
    "all_coordinates = get_all_coordinates(\"https://www.ndbc.noaa.gov/data/stations/station_table.txt\")\n",
    "\n",
    "plt.figure()\n",
    "plt.xlim(-180,180)\n",
    "plt.ylim(-90,90)\n",
    "plt.plot(all_coordinates[\"longitude\"], all_coordinates[\"latitude\"], \"b.\")\n",
    "plt.show()"
   ]
  },
  {
   "cell_type": "markdown",
   "metadata": {},
   "source": [
    "## Use gmaps to plot buoys on interactive world map:"
   ]
  },
  {
   "cell_type": "code",
   "execution_count": 17,
   "metadata": {},
   "outputs": [
    {
     "data": {
      "application/vnd.jupyter.widget-view+json": {
       "model_id": "2abda00a42f54e249c544acedc766c4d",
       "version_major": 2,
       "version_minor": 0
      },
      "text/plain": [
       "Figure(layout=FigureLayout(height='420px'))"
      ]
     },
     "metadata": {},
     "output_type": "display_data"
    }
   ],
   "source": [
    "import gmaps\n",
    "import gmaps.datasets\n",
    "from config import API_KEY\n",
    "gmaps.configure(api_key=API_KEY)\n",
    "\n",
    "gmaps_coords = all_coordinates[[\"latitude\", \"longitude\"]]\n",
    "\n",
    "gmaps_coords_layer = gmaps.symbol_layer(\n",
    "    gmaps_coords, fill_color=\"green\", stroke_color=\"green\", scale=2\n",
    ")\n",
    "fig = gmaps.figure()\n",
    "fig.add_layer(gmaps_coords_layer)\n",
    "fig"
   ]
  },
  {
   "cell_type": "code",
   "execution_count": null,
   "metadata": {},
   "outputs": [],
   "source": []
  },
  {
   "cell_type": "markdown",
   "metadata": {},
   "source": [
    "## With all coordinates now collected, we can subset based on various attributes.\n",
    "\n",
    "For example, we may with to only collect buoys for which real-time water-temp data is available. Here, use the subset of buoys with real-time info from our get_links_from_xml()."
   ]
  },
  {
   "cell_type": "code",
   "execution_count": 23,
   "metadata": {},
   "outputs": [
    {
     "name": "stdout",
     "output_type": "stream",
     "text": [
      "314\n"
     ]
    },
    {
     "data": {
      "text/html": [
       "<div>\n",
       "<style scoped>\n",
       "    .dataframe tbody tr th:only-of-type {\n",
       "        vertical-align: middle;\n",
       "    }\n",
       "\n",
       "    .dataframe tbody tr th {\n",
       "        vertical-align: top;\n",
       "    }\n",
       "\n",
       "    .dataframe thead th {\n",
       "        text-align: right;\n",
       "    }\n",
       "</style>\n",
       "<table border=\"1\" class=\"dataframe\">\n",
       "  <thead>\n",
       "    <tr style=\"text-align: right;\">\n",
       "      <th></th>\n",
       "      <th>Buoy_IDs</th>\n",
       "      <th>Coords</th>\n",
       "      <th>latitude</th>\n",
       "      <th>longitude</th>\n",
       "    </tr>\n",
       "  </thead>\n",
       "  <tbody>\n",
       "    <tr>\n",
       "      <th>0</th>\n",
       "      <td>41002</td>\n",
       "      <td>31.760 N 74.840 W</td>\n",
       "      <td>31.760</td>\n",
       "      <td>-74.840</td>\n",
       "    </tr>\n",
       "    <tr>\n",
       "      <th>1</th>\n",
       "      <td>41004</td>\n",
       "      <td>32.501 N 79.099 W</td>\n",
       "      <td>32.501</td>\n",
       "      <td>-79.099</td>\n",
       "    </tr>\n",
       "    <tr>\n",
       "      <th>2</th>\n",
       "      <td>41008</td>\n",
       "      <td>31.400 N 80.868 W</td>\n",
       "      <td>31.400</td>\n",
       "      <td>-80.868</td>\n",
       "    </tr>\n",
       "    <tr>\n",
       "      <th>3</th>\n",
       "      <td>41009</td>\n",
       "      <td>28.501 N 80.184 W</td>\n",
       "      <td>28.501</td>\n",
       "      <td>-80.184</td>\n",
       "    </tr>\n",
       "    <tr>\n",
       "      <th>4</th>\n",
       "      <td>41010</td>\n",
       "      <td>28.878 N 78.485 W</td>\n",
       "      <td>28.878</td>\n",
       "      <td>-78.485</td>\n",
       "    </tr>\n",
       "  </tbody>\n",
       "</table>\n",
       "</div>"
      ],
      "text/plain": [
       "  Buoy_IDs              Coords  latitude  longitude\n",
       "0    41002  31.760 N 74.840 W     31.760    -74.840\n",
       "1    41004  32.501 N 79.099 W     32.501    -79.099\n",
       "2    41008  31.400 N 80.868 W     31.400    -80.868\n",
       "3    41009  28.501 N 80.184 W     28.501    -80.184\n",
       "4    41010  28.878 N 78.485 W     28.878    -78.485"
      ]
     },
     "execution_count": 23,
     "metadata": {},
     "output_type": "execute_result"
    }
   ],
   "source": [
    "def get_subset_coordinates(input_list):\n",
    "    \"\"\"\n",
    "    Generates a pandas data frame of buoy IDs and longitude/latitude values for a list of buoy IDs passed in. \n",
    "    \"\"\"\n",
    "    #get list of all buoys by calling get_all_coordinates():\n",
    "    full_buoy_df = get_all_coordinates(\"https://www.ndbc.noaa.gov/data/stations/station_table.txt\")\n",
    "    all_buoys_list = input_list\n",
    "    buoy_ids = input_list\n",
    "    input_list_df = pd.DataFrame({\"Buoy_IDs\" : buoy_ids})\n",
    "    merged_df = input_list_df.merge(full_buoy_df, left_on=\"Buoy_IDs\", right_on=\"Buoy_IDs\", how=\"inner\")\n",
    "       \n",
    "    return merged_df\n",
    "\n",
    "real_time_subset = get_links_from_lxml(\"https://www.ndbc.noaa.gov/data/realtime2\", \".txt\")[1] \n",
    "\n",
    "get_subset_coordinates(real_time_subset).head()\n",
    "\n"
   ]
  },
  {
   "cell_type": "markdown",
   "metadata": {},
   "source": [
    "## Plot this buoy subset:"
   ]
  },
  {
   "cell_type": "code",
   "execution_count": 22,
   "metadata": {},
   "outputs": [
    {
     "data": {
      "application/vnd.jupyter.widget-view+json": {
       "model_id": "aa6d03e7aacc474fa1a92f6a6e4a40cb",
       "version_major": 2,
       "version_minor": 0
      },
      "text/plain": [
       "Figure(layout=FigureLayout(height='420px'))"
      ]
     },
     "metadata": {},
     "output_type": "display_data"
    }
   ],
   "source": [
    "real_time_buoys = get_subset_coordinates(real_time_subset)\n",
    "\n",
    "gmaps_coords = real_time_buoys[[\"latitude\", \"longitude\"]]\n",
    "\n",
    "gmaps_coords_layer = gmaps.symbol_layer(gmaps_coords, fill_color=\"green\", stroke_color=\"green\", scale=2)\n",
    "fig = gmaps.figure()\n",
    "fig.add_layer(gmaps_coords_layer)\n",
    "fig"
   ]
  },
  {
   "cell_type": "markdown",
   "metadata": {},
   "source": [
    "# Define Class Buoy: includes methods to check current conditions and to build/update pandas dataframes with buoy data"
   ]
  },
  {
   "cell_type": "code",
   "execution_count": 46,
   "metadata": {},
   "outputs": [],
   "source": [
    "REAL_TIME_URL_BASE = \"https://www.ndbc.noaa.gov/data/realtime2\"\n",
    "\n",
    "class Buoy:\n",
    "    \n",
    "    \n",
    "    \n",
    "    def __init__(self, station_id):\n",
    "        \"\"\"\n",
    "        Buoy Class\n",
    "        \"\"\"\n",
    "        self.station_id = station_id\n",
    "        \n",
    "    def link_finder(self):\n",
    "        ###need to introduce a try/except clause to handle buoys that do not exist\n",
    "        \"\"\"\n",
    "        Finds the real-time data .txt file for a given buoy. This file contains attributes to be called by\n",
    "        additional buoy methods.\n",
    "        \"\"\"\n",
    "        target = self.station_id\n",
    "        return REAL_TIME_URL_BASE + \"/\" + str(target) + \".txt\"\n",
    "    \n",
    "    def wtmp(self):\n",
    "        \"\"\"\n",
    "        Returns real-time water temp at a given buoy\n",
    "        \"\"\"\n",
    "        r = requests.get(self.link_finder())\n",
    "        lines = r.text.split('\\n')\n",
    "        for line in lines[2:3]:\n",
    "            line = line.split()  \n",
    "            try:\n",
    "                water_temp = float(line[14])\n",
    "                return water_temp\n",
    "            except ValueError:\n",
    "                return \"No Current Value for this Buoy\"\n",
    "    \n",
    "    def atmp(self):\n",
    "        \"\"\"\n",
    "        Returns real-time air temp at a given buoy\n",
    "        \"\"\"\n",
    "        r = requests.get(self.link_finder())\n",
    "        lines = r.text.split('\\n')\n",
    "        for line in lines[2:3]:\n",
    "            line = line.split()   \n",
    "            try: \n",
    "                air_temp = float(line[13])\n",
    "                return \"Current Air Temp for Buoy %s is %s degrees C\" % (self.station_id, air_temp)\n",
    "            except ValueError:\n",
    "                return \"No Current Value for this Buoy\"\n",
    "        \n",
    "    def real_time_data(self):\n",
    "        \n",
    "        \"\"\"\n",
    "        Collects air temp, water temp, and time stamp data from a buoy, and appends these values to a .db file\n",
    "        \"\"\"\n",
    "        df = pd.DataFrame()\n",
    "        r = requests.get(self.link_finder())\n",
    "        lines = r.text.split('\\n')\n",
    "        year_dat = []\n",
    "        water_temp = []\n",
    "        air_temp = []\n",
    "        tod = []\n",
    "        dates = []\n",
    "        for line in lines[2:len(lines)-1]:\n",
    "            line = line.split()   \n",
    "            water_temp.append(line[14])\n",
    "            air_temp.append(line[13])\n",
    "            tod.append(line[3] + \":\" + line[4])\n",
    "            dates.append(line[0:3])\n",
    "        return water_temp , tod, dates       \n",
    "\n",
    "    def df_build(self):\n",
    "        \n",
    "        \n",
    "        df = pd.DataFrame(columns = [\"time_stamp\", \"b%s water_temp (C)\" % self.station_id , \"air_temp (C)\"])\n",
    "        r = requests.get(self.link_finder())\n",
    "        lines = r.text.split('\\n')\n",
    "        for i in range(2,len(lines)-2100):\n",
    "            line = lines[i].split()\n",
    "            time_stamp = line[0] + \"-\" + line[1] + \"-\" + line[2] + \" \" + line[3] + \":\" + line[4]\n",
    "            df.loc[i] = [time_stamp , line[14] , line[13]]\n",
    "        return df"
   ]
  },
  {
   "cell_type": "markdown",
   "metadata": {},
   "source": [
    "## Collect real-time water temp values for our buoys:"
   ]
  },
  {
   "cell_type": "code",
   "execution_count": 105,
   "metadata": {},
   "outputs": [],
   "source": [
    "#Add a column to our buoy subset to include real-time water temperature:\n",
    "\n",
    "real_time_buoys[\"wtmp\"] = [Buoy(i).wtmp() for i in real_time_buoys[\"Buoy_IDs\"]]"
   ]
  },
  {
   "cell_type": "code",
   "execution_count": 158,
   "metadata": {},
   "outputs": [
    {
     "data": {
      "text/html": [
       "<div>\n",
       "<style scoped>\n",
       "    .dataframe tbody tr th:only-of-type {\n",
       "        vertical-align: middle;\n",
       "    }\n",
       "\n",
       "    .dataframe tbody tr th {\n",
       "        vertical-align: top;\n",
       "    }\n",
       "\n",
       "    .dataframe thead th {\n",
       "        text-align: right;\n",
       "    }\n",
       "</style>\n",
       "<table border=\"1\" class=\"dataframe\">\n",
       "  <thead>\n",
       "    <tr style=\"text-align: right;\">\n",
       "      <th></th>\n",
       "      <th>Buoy_IDs</th>\n",
       "      <th>Coords</th>\n",
       "      <th>latitude</th>\n",
       "      <th>longitude</th>\n",
       "      <th>wtmp</th>\n",
       "    </tr>\n",
       "  </thead>\n",
       "  <tbody>\n",
       "    <tr>\n",
       "      <th>0</th>\n",
       "      <td>41002</td>\n",
       "      <td>31.760 N 74.840 W</td>\n",
       "      <td>31.760</td>\n",
       "      <td>-74.840</td>\n",
       "      <td>27.1</td>\n",
       "    </tr>\n",
       "    <tr>\n",
       "      <th>1</th>\n",
       "      <td>41004</td>\n",
       "      <td>32.501 N 79.099 W</td>\n",
       "      <td>32.501</td>\n",
       "      <td>-79.099</td>\n",
       "      <td>27.5</td>\n",
       "    </tr>\n",
       "    <tr>\n",
       "      <th>2</th>\n",
       "      <td>41008</td>\n",
       "      <td>31.400 N 80.868 W</td>\n",
       "      <td>31.400</td>\n",
       "      <td>-80.868</td>\n",
       "      <td>29.5</td>\n",
       "    </tr>\n",
       "    <tr>\n",
       "      <th>3</th>\n",
       "      <td>41009</td>\n",
       "      <td>28.501 N 80.184 W</td>\n",
       "      <td>28.501</td>\n",
       "      <td>-80.184</td>\n",
       "      <td>30</td>\n",
       "    </tr>\n",
       "    <tr>\n",
       "      <th>4</th>\n",
       "      <td>41010</td>\n",
       "      <td>28.878 N 78.485 W</td>\n",
       "      <td>28.878</td>\n",
       "      <td>-78.485</td>\n",
       "      <td>29.4</td>\n",
       "    </tr>\n",
       "  </tbody>\n",
       "</table>\n",
       "</div>"
      ],
      "text/plain": [
       "  Buoy_IDs              Coords  latitude  longitude  wtmp\n",
       "0    41002  31.760 N 74.840 W     31.760    -74.840  27.1\n",
       "1    41004  32.501 N 79.099 W     32.501    -79.099  27.5\n",
       "2    41008  31.400 N 80.868 W     31.400    -80.868  29.5\n",
       "3    41009  28.501 N 80.184 W     28.501    -80.184    30\n",
       "4    41010  28.878 N 78.485 W     28.878    -78.485  29.4"
      ]
     },
     "execution_count": 158,
     "metadata": {},
     "output_type": "execute_result"
    }
   ],
   "source": [
    "real_time_buoys.head()\n",
    "weights = real_time_buoys['wtmp']\n",
    "real_time_buoys.head(15)\n",
    "#drop non-numeric rows:\n",
    "real_time_buoys_cleaned = real_time_buoys[real_time_buoys[\"wtmp\"] != \"No Current Value for this Buoy\"]\n",
    "real_time_buoys_cleaned.head()"
   ]
  },
  {
   "cell_type": "markdown",
   "metadata": {},
   "source": [
    "## Visualize real-time water temp as a function of location\n",
    "\n",
    "To do this, use viridis scaling of wtmp (mix-max, then color-relation). Attach viridis values to each location with a water temperature value and plot the results. "
   ]
  },
  {
   "cell_type": "code",
   "execution_count": 166,
   "metadata": {},
   "outputs": [],
   "source": [
    "from matplotlib.cm import viridis\n",
    "from matplotlib.colors import to_hex"
   ]
  },
  {
   "cell_type": "code",
   "execution_count": 167,
   "metadata": {},
   "outputs": [
    {
     "data": {
      "text/html": [
       "<div>\n",
       "<style scoped>\n",
       "    .dataframe tbody tr th:only-of-type {\n",
       "        vertical-align: middle;\n",
       "    }\n",
       "\n",
       "    .dataframe tbody tr th {\n",
       "        vertical-align: top;\n",
       "    }\n",
       "\n",
       "    .dataframe thead th {\n",
       "        text-align: right;\n",
       "    }\n",
       "</style>\n",
       "<table border=\"1\" class=\"dataframe\">\n",
       "  <thead>\n",
       "    <tr style=\"text-align: right;\">\n",
       "      <th></th>\n",
       "      <th>Buoy_IDs</th>\n",
       "      <th>Coords</th>\n",
       "      <th>latitude</th>\n",
       "      <th>longitude</th>\n",
       "      <th>wtmp</th>\n",
       "    </tr>\n",
       "  </thead>\n",
       "  <tbody>\n",
       "    <tr>\n",
       "      <th>0</th>\n",
       "      <td>41002</td>\n",
       "      <td>31.760 N 74.840 W</td>\n",
       "      <td>31.760</td>\n",
       "      <td>-74.840</td>\n",
       "      <td>27.1</td>\n",
       "    </tr>\n",
       "    <tr>\n",
       "      <th>1</th>\n",
       "      <td>41004</td>\n",
       "      <td>32.501 N 79.099 W</td>\n",
       "      <td>32.501</td>\n",
       "      <td>-79.099</td>\n",
       "      <td>27.5</td>\n",
       "    </tr>\n",
       "    <tr>\n",
       "      <th>2</th>\n",
       "      <td>41008</td>\n",
       "      <td>31.400 N 80.868 W</td>\n",
       "      <td>31.400</td>\n",
       "      <td>-80.868</td>\n",
       "      <td>29.5</td>\n",
       "    </tr>\n",
       "    <tr>\n",
       "      <th>3</th>\n",
       "      <td>41009</td>\n",
       "      <td>28.501 N 80.184 W</td>\n",
       "      <td>28.501</td>\n",
       "      <td>-80.184</td>\n",
       "      <td>30</td>\n",
       "    </tr>\n",
       "    <tr>\n",
       "      <th>4</th>\n",
       "      <td>41010</td>\n",
       "      <td>28.878 N 78.485 W</td>\n",
       "      <td>28.878</td>\n",
       "      <td>-78.485</td>\n",
       "      <td>29.4</td>\n",
       "    </tr>\n",
       "  </tbody>\n",
       "</table>\n",
       "</div>"
      ],
      "text/plain": [
       "  Buoy_IDs              Coords  latitude  longitude  wtmp\n",
       "0    41002  31.760 N 74.840 W     31.760    -74.840  27.1\n",
       "1    41004  32.501 N 79.099 W     32.501    -79.099  27.5\n",
       "2    41008  31.400 N 80.868 W     31.400    -80.868  29.5\n",
       "3    41009  28.501 N 80.184 W     28.501    -80.184    30\n",
       "4    41010  28.878 N 78.485 W     28.878    -78.485  29.4"
      ]
     },
     "execution_count": 167,
     "metadata": {},
     "output_type": "execute_result"
    }
   ],
   "source": [
    "real_time_buoys_cleaned.head()"
   ]
  },
  {
   "cell_type": "code",
   "execution_count": 180,
   "metadata": {},
   "outputs": [],
   "source": [
    "min_gini = (real_time_buoys_cleaned[\"wtmp\"]).min()\n",
    "max_gini = (real_time_buoys_cleaned[\"wtmp\"]).max()\n",
    "gini_range = max_gini - min_gini\n",
    "\n",
    "#set colors:\n",
    "def calculate_color(gini):\n",
    "    \"\"\"\n",
    "    Convert the GINI coefficient to a color\n",
    "    \"\"\"\n",
    "    # make gini a number between 0 and 1\n",
    "    normalized_gini = (gini - min_gini) / gini_range\n",
    "    # invert gini so that high inequality gives dark color\n",
    "    inverse_gini = 1.0 - normalized_gini\n",
    "    # transform the gini coefficient to a matplotlib color\n",
    "   # mpl_color = viridis(inverse_gini)\n",
    "    mpl_color = viridis(normalized_gini)\n",
    "    # transform from a matplotlib color to a valid CSS color\n",
    "    gmaps_color = to_hex(mpl_color, keep_alpha=False)\n",
    "    return gmaps_color"
   ]
  },
  {
   "cell_type": "code",
   "execution_count": 181,
   "metadata": {},
   "outputs": [],
   "source": [
    "colors = []\n",
    "for t in real_time_buoys_cleaned[\"wtmp\"]:\n",
    "    color = calculate_color(t)\n",
    "    colors.append(color)\n"
   ]
  },
  {
   "cell_type": "code",
   "execution_count": 182,
   "metadata": {},
   "outputs": [
    {
     "data": {
      "application/vnd.jupyter.widget-view+json": {
       "model_id": "0f5f765c9ddc405a85f5afd22399889c",
       "version_major": 2,
       "version_minor": 0
      },
      "text/plain": [
       "Figure(layout=FigureLayout(height='420px'))"
      ]
     },
     "metadata": {},
     "output_type": "display_data"
    }
   ],
   "source": [
    "locations = real_time_buoys_cleaned[['latitude', 'longitude']]\n",
    "weights = real_time_buoys_cleaned['wtmp']\n",
    "\n",
    "gmaps_coords = real_time_buoys_cleaned[['latitude', 'longitude']]\n",
    "\n",
    "\n",
    "\n",
    "gmaps_coords_layer = gmaps.symbol_layer(gmaps_coords, fill_color=colors, stroke_color=colors, scale=2)\n",
    "fig = gmaps.figure()\n",
    "fig.add_layer(gmaps_coords_layer)\n",
    "fig"
   ]
  },
  {
   "cell_type": "code",
   "execution_count": null,
   "metadata": {},
   "outputs": [],
   "source": [
    "###generate a sql database from the above:\n",
    "from sqlalchemy import create_engine\n",
    "engine = create_engine('sqlite://', echo=False)\n",
    "df = buoy.df_build()\n",
    "df.to_sql('buoys', con=engine)\n",
    "engine.execute(\"SELECT * FROM buoys\").fetchall()"
   ]
  },
  {
   "cell_type": "code",
   "execution_count": null,
   "metadata": {},
   "outputs": [],
   "source": [
    "#using the list of links, collect n links at a time and append data"
   ]
  },
  {
   "cell_type": "code",
   "execution_count": null,
   "metadata": {},
   "outputs": [],
   "source": [
    "#scrape lat/lon coordinates from buoy numbers. Use these coordinates to define a subset of buoys to collect data from\n",
    "# for example only around sf bay area"
   ]
  },
  {
   "cell_type": "code",
   "execution_count": null,
   "metadata": {},
   "outputs": [],
   "source": [
    "#build arrays, one per time point per buoy"
   ]
  },
  {
   "cell_type": "code",
   "execution_count": null,
   "metadata": {},
   "outputs": [],
   "source": [
    "def get_info(self):\n",
    "    target_buoy = self\n",
    "  #  r = requests.get(REAL_TIME_URL_BASE+ \"link\" + \".txt\")\n",
    "    s = REAL_TIME_URL_BASE+ \"/\" + str(target_buoy) + \".txt\"\n",
    "    print(s)\n",
    "get_info(123)"
   ]
  },
  {
   "cell_type": "code",
   "execution_count": null,
   "metadata": {},
   "outputs": [],
   "source": [
    "#directly test whether linear model predicts relationship between water temp at in-bay vs out-of-bay buoys, whether \n",
    "#data is cyclical via tide times, etc."
   ]
  },
  {
   "cell_type": "code",
   "execution_count": null,
   "metadata": {},
   "outputs": [],
   "source": []
  }
 ],
 "metadata": {
  "kernelspec": {
   "display_name": "Python 3",
   "language": "python",
   "name": "python3"
  },
  "language_info": {
   "codemirror_mode": {
    "name": "ipython",
    "version": 3
   },
   "file_extension": ".py",
   "mimetype": "text/x-python",
   "name": "python",
   "nbconvert_exporter": "python",
   "pygments_lexer": "ipython3",
   "version": "3.6.4"
  }
 },
 "nbformat": 4,
 "nbformat_minor": 2
}
