{
 "cells": [
  {
   "cell_type": "markdown",
   "metadata": {},
   "source": [
    "# This notebook goes through the scraping of geostationary satellite (GOES-16) data from UWI RealEarth\n",
    "\n",
    "RealEarth API documentation: https://realearth.ssec.wisc.edu/doc/api.php"
   ]
  },
  {
   "cell_type": "code",
   "execution_count": 10,
   "metadata": {},
   "outputs": [],
   "source": [
    "import ast #allows to deal with string as dictionary\n",
    "import requests\n",
    "import pandas as pd"
   ]
  },
  {
   "cell_type": "markdown",
   "metadata": {},
   "source": [
    "## First build a list of available dataset timestamps for a given channel\n",
    "In this case we are looking at the channel G16-ABI-CONUS-BAND02, which collects cloud data from a high-res full-continental US image collected by the GOES-east satellite"
   ]
  },
  {
   "cell_type": "code",
   "execution_count": 201,
   "metadata": {},
   "outputs": [],
   "source": [
    "#initialize a list to contain timestamp values:\n",
    "\n",
    "\n",
    "\n",
    "def available_datasets_by_time(channel):\n",
    "    abi_band2_list = []\n",
    "    base_url = \"https://realearth.ssec.wisc.edu/api/times?products=\"\n",
    "    #url = requests.get(base_url + str(channel))\n",
    "    url = base_url + channel\n",
    "    r = requests.get(url)\n",
    "    list_text = ast.literal_eval(r.text)\n",
    "    for val in list_text.values():\n",
    "        if val not in abi_band2_list:\n",
    "            abi_band2_list.append(val)\n",
    "    return abi_band2_list\n",
    "\n",
    "input_list = available_datasets_by_time(\"G16-ABI-CONUS-BAND02\")    \n"
   ]
  },
  {
   "cell_type": "markdown",
   "metadata": {},
   "source": [
    "## Next, subset this list to only contain the first timestamp for each hour\n",
    "\n",
    "The reasoning behind this is that the current dataset of weather values from DarkskyAPI is hourly and we are looking for one image per weather instance"
   ]
  },
  {
   "cell_type": "code",
   "execution_count": 202,
   "metadata": {},
   "outputs": [],
   "source": [
    "#look for unique combinations between date and hour stamps and use these to build a new list:\n",
    "\n",
    "def unique_time_stamps(input_list):\n",
    "    output_list = []\n",
    "    for i in range(len(input_list[0])):\n",
    "        date, hour = input_list[0][i][0:8], input_list[0][i][-6:-4]\n",
    "        if date+hour not in output_list:\n",
    "            output_list.append(date+hour)\n",
    "            #output_list.append(date[0:4] + \"-\" + date[4:6] + \"-\" + date[6:8] + \"+\" + hour)\n",
    "            \n",
    "    return output_list     \n",
    "\n",
    "unique_times = unique_time_stamps(input_list)\n",
    "\n",
    "\n"
   ]
  },
  {
   "cell_type": "code",
   "execution_count": 203,
   "metadata": {},
   "outputs": [],
   "source": [
    "#reformat times:\n",
    "\n",
    "def reformat_times(input_list):\n",
    "    output_list = []\n",
    "    for i in input_list:\n",
    "        output_list.append(i[0:4] + \"-\" + i[4:6] + \"-\" + i[6:8] + \"+\" + i[8:10])\n",
    "    return output_list\n",
    "\n",
    "image_times = reformat_times(unique_times)\n"
   ]
  },
  {
   "cell_type": "code",
   "execution_count": 226,
   "metadata": {},
   "outputs": [],
   "source": [
    "#generate list of urls:\n",
    "\n",
    "def url_list(list_of_times):\n",
    "    url_output_list = []\n",
    "    base_url = \"https://realearth.ssec.wisc.edu/api/image?products=G16-ABI-CONUS-BAND02&time=\"\n",
    "    end_url = \"&center=37.77,-122.41&zoom=9&width=150&height=150\"\n",
    "    for i in list_of_times:\n",
    "        url_output_list.append(base_url + i + end_url)\n",
    "    return url_output_list\n",
    "\n",
    "input_urls = url_list(image_times)"
   ]
  },
  {
   "cell_type": "markdown",
   "metadata": {},
   "source": [
    "## Pull images for each url:\n",
    "\n",
    "Images are pulled as pngs, then saved as 1D arrays (which can be used as input for ML and re-viewed via reshaping).\n"
   ]
  },
  {
   "cell_type": "code",
   "execution_count": 206,
   "metadata": {},
   "outputs": [],
   "source": [
    "from PIL import Image\n",
    "import requests\n",
    "from io import BytesIO\n",
    "import numpy as np"
   ]
  },
  {
   "cell_type": "code",
   "execution_count": 362,
   "metadata": {},
   "outputs": [],
   "source": [
    "#take input url, retrieve png, and flatten to 1D array (C-style):\n",
    "\n",
    "def flatten_png_from_url(input_url):\n",
    "    response = requests.get(input_url)\n",
    "    if response.status_code == 200:        \n",
    "        input_png = Image.open(BytesIO(response.content))  \n",
    "        as_array = np.array(input_png)[:,:,0]\n",
    "        flat_array = as_array.flatten()\n",
    "        return flat_array\n",
    "\n",
    "\n"
   ]
  },
  {
   "cell_type": "code",
   "execution_count": 373,
   "metadata": {},
   "outputs": [],
   "source": [
    "#build images dataframe with urls and timestamps\n",
    "\n",
    "images_df = pd.DataFrame(columns=[\"url\", \"img_array\"])\n",
    "images_df[\"url\"] = [url_list(time) for time in image_times]\n",
    "images_df[\"img_array\"] = [flatten_png_from_url(url) for url in input_urls]\n",
    "images_df[\"time_stamps\"] = [time for time in unique_times]"
   ]
  },
  {
   "cell_type": "markdown",
   "metadata": {},
   "source": [
    "## Save resulting dataframe. This will be updated periodically to build dataset.\n",
    "\n",
    "Ideally, the above functions should be built into a pipeline that opens the images_df, appends new data, then re-saves. This should be integrated with the DarkSkyAPI scripts to build a single df with arrays, timestamps, and temp values etc."
   ]
  },
  {
   "cell_type": "code",
   "execution_count": null,
   "metadata": {},
   "outputs": [],
   "source": []
  },
  {
   "cell_type": "code",
   "execution_count": 224,
   "metadata": {},
   "outputs": [
    {
     "data": {
      "text/plain": [
       "array([ 81,  81,  81, ...,  58,  58, 255], dtype=uint8)"
      ]
     },
     "execution_count": 224,
     "metadata": {},
     "output_type": "execute_result"
    }
   ],
   "source": [
    "#Display png from array example:\n",
    "%matplotlib inline\n",
    "import matplotlib\n",
    "import matplotlib.pyplot as plt\n",
    "some_digit = flattened_png\n",
    "some_digit_image = some_digit.reshape(150,150)\n",
    "plt.imshow(some_digit_image, cmap=matplotlib.cm.binary, interpolation=\"nearest\")\n"
   ]
  }
 ],
 "metadata": {
  "kernelspec": {
   "display_name": "Python 3",
   "language": "python",
   "name": "python3"
  },
  "language_info": {
   "codemirror_mode": {
    "name": "ipython",
    "version": 3
   },
   "file_extension": ".py",
   "mimetype": "text/x-python",
   "name": "python",
   "nbconvert_exporter": "python",
   "pygments_lexer": "ipython3",
   "version": "3.6.4"
  }
 },
 "nbformat": 4,
 "nbformat_minor": 2
}
