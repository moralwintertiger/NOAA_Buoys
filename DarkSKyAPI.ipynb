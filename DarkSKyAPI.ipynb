{
 "cells": [
  {
   "cell_type": "markdown",
   "metadata": {},
   "source": [
    "# This notebook uses the DarkSky API to collect historical weather data for a given city\n",
    "\n",
    "To get set up, first retrieve an API from darksky.net"
   ]
  },
  {
   "cell_type": "code",
   "execution_count": 6,
   "metadata": {},
   "outputs": [],
   "source": [
    "from NOAA_token import dark_sky_api\n",
    "import datetime\n",
    "import pandas as pd\n",
    "import forecastio\n",
    "import getpass\n",
    "import matplotlib.pyplot as plt\n",
    "import numpy as np"
   ]
  },
  {
   "cell_type": "code",
   "execution_count": 218,
   "metadata": {},
   "outputs": [],
   "source": [
    "#set API key:\n",
    "\n",
    "api_key = dark_sky_api"
   ]
  },
  {
   "cell_type": "code",
   "execution_count": 216,
   "metadata": {},
   "outputs": [],
   "source": [
    "#austin tx coords:\n",
    "lat = 30.25\n",
    "lng = -97.25\n",
    "\n",
    "sf_lat = 37.7749\n",
    "sf_lon = -122.4194\n",
    "\n",
    "stockton_lat = 37.9577\n",
    "stockton_lon = -121.2908\n",
    "\n",
    "oakland_lat = 37.8044 \n",
    "oakland_lon = -122.2711"
   ]
  },
  {
   "cell_type": "code",
   "execution_count": 219,
   "metadata": {},
   "outputs": [],
   "source": [
    "attributes = [\"temperature\", \"humidity\"]"
   ]
  },
  {
   "cell_type": "code",
   "execution_count": 333,
   "metadata": {},
   "outputs": [],
   "source": [
    "#initialize df and dictionary into which to collect data:\n",
    "\n",
    "times = []\n",
    "data = {}\n",
    "for attr in attributes:\n",
    "    data[attr] = []"
   ]
  },
  {
   "cell_type": "code",
   "execution_count": 335,
   "metadata": {},
   "outputs": [],
   "source": [
    "#collect data for a given time point, in this case 2 days beginning july 1 2017\n",
    "start = datetime.datetime(2017, 7, 1)\n",
    "for offset in range(0, 4):\n",
    "    forecast = forecastio.load_forecast(api_key, stockton_lat, stockton_lon, time=start+datetime.timedelta(offset), units=\"us\")\n",
    "    h = forecast.hourly()\n",
    "    d = h.data\n",
    "    for p in d:\n",
    "        times.append(p.time)\n",
    "        for attr in attributes:\n",
    "            data[attr].append(p.d[attr])"
   ]
  },
  {
   "cell_type": "code",
   "execution_count": 338,
   "metadata": {},
   "outputs": [
    {
     "data": {
      "text/html": [
       "<div>\n",
       "<style scoped>\n",
       "    .dataframe tbody tr th:only-of-type {\n",
       "        vertical-align: middle;\n",
       "    }\n",
       "\n",
       "    .dataframe tbody tr th {\n",
       "        vertical-align: top;\n",
       "    }\n",
       "\n",
       "    .dataframe thead th {\n",
       "        text-align: right;\n",
       "    }\n",
       "</style>\n",
       "<table border=\"1\" class=\"dataframe\">\n",
       "  <thead>\n",
       "    <tr style=\"text-align: right;\">\n",
       "      <th></th>\n",
       "      <th>temperature</th>\n",
       "      <th>humidity</th>\n",
       "    </tr>\n",
       "  </thead>\n",
       "  <tbody>\n",
       "    <tr>\n",
       "      <th>2017-07-01 07:00:00</th>\n",
       "      <td>65.51</td>\n",
       "      <td>0.58</td>\n",
       "    </tr>\n",
       "    <tr>\n",
       "      <th>2017-07-01 08:00:00</th>\n",
       "      <td>63.29</td>\n",
       "      <td>0.63</td>\n",
       "    </tr>\n",
       "    <tr>\n",
       "      <th>2017-07-01 09:00:00</th>\n",
       "      <td>60.66</td>\n",
       "      <td>0.68</td>\n",
       "    </tr>\n",
       "    <tr>\n",
       "      <th>2017-07-01 10:00:00</th>\n",
       "      <td>59.45</td>\n",
       "      <td>0.70</td>\n",
       "    </tr>\n",
       "    <tr>\n",
       "      <th>2017-07-01 11:00:00</th>\n",
       "      <td>58.61</td>\n",
       "      <td>0.73</td>\n",
       "    </tr>\n",
       "  </tbody>\n",
       "</table>\n",
       "</div>"
      ],
      "text/plain": [
       "                     temperature  humidity\n",
       "2017-07-01 07:00:00        65.51      0.58\n",
       "2017-07-01 08:00:00        63.29      0.63\n",
       "2017-07-01 09:00:00        60.66      0.68\n",
       "2017-07-01 10:00:00        59.45      0.70\n",
       "2017-07-01 11:00:00        58.61      0.73"
      ]
     },
     "execution_count": 338,
     "metadata": {},
     "output_type": "execute_result"
    }
   ],
   "source": [
    "df = pd.DataFrame(data, index=times)\n",
    "df.head()"
   ]
  },
  {
   "cell_type": "code",
   "execution_count": 339,
   "metadata": {},
   "outputs": [],
   "source": [
    "#build the above functionality into a function that builds dataframes:\n",
    "\n",
    "def df_builder(lat, lon, start_y, start_m, start_d, num_days):\n",
    "    \n",
    "    \"\"\"\n",
    "    returns a pandas df with airtemp and humidity data for the specified location and time range. \n",
    "    \"\"\"\n",
    "    \n",
    "    times = []\n",
    "    data = {}\n",
    "    for attr in attributes:\n",
    "        data[attr] = []\n",
    "\n",
    "    \n",
    "    start = datetime.datetime(start_y , start_m , start_d)\n",
    "    for offset in range(0, num_days):\n",
    "        forecast = forecastio.load_forecast(api_key, lat, lon, time=start+datetime.timedelta(offset), units=\"us\")\n",
    "        h = forecast.hourly()\n",
    "        d = h.data\n",
    "        for p in d:\n",
    "            times.append(p.time)\n",
    "            for attr in attributes:\n",
    "                data[attr].append(p.d[attr])\n",
    "    return pd.DataFrame(data, index=times)\n"
   ]
  },
  {
   "cell_type": "code",
   "execution_count": 349,
   "metadata": {},
   "outputs": [],
   "source": [
    "#build a df with all stockton data from july:\n",
    "\n",
    "stockton_july_data = df_builder(stockton_lat, stockton_lon, 2018, 7, 1, 30)"
   ]
  },
  {
   "cell_type": "code",
   "execution_count": 355,
   "metadata": {},
   "outputs": [
    {
     "data": {
      "text/html": [
       "<div>\n",
       "<style scoped>\n",
       "    .dataframe tbody tr th:only-of-type {\n",
       "        vertical-align: middle;\n",
       "    }\n",
       "\n",
       "    .dataframe tbody tr th {\n",
       "        vertical-align: top;\n",
       "    }\n",
       "\n",
       "    .dataframe thead th {\n",
       "        text-align: right;\n",
       "    }\n",
       "</style>\n",
       "<table border=\"1\" class=\"dataframe\">\n",
       "  <thead>\n",
       "    <tr style=\"text-align: right;\">\n",
       "      <th></th>\n",
       "      <th>temperature</th>\n",
       "      <th>humidity</th>\n",
       "    </tr>\n",
       "  </thead>\n",
       "  <tbody>\n",
       "    <tr>\n",
       "      <th>2018-07-31 02:00:00</th>\n",
       "      <td>92.12</td>\n",
       "      <td>0.31</td>\n",
       "    </tr>\n",
       "    <tr>\n",
       "      <th>2018-07-31 03:00:00</th>\n",
       "      <td>88.96</td>\n",
       "      <td>0.32</td>\n",
       "    </tr>\n",
       "    <tr>\n",
       "      <th>2018-07-31 04:00:00</th>\n",
       "      <td>83.53</td>\n",
       "      <td>0.35</td>\n",
       "    </tr>\n",
       "    <tr>\n",
       "      <th>2018-07-31 05:00:00</th>\n",
       "      <td>77.24</td>\n",
       "      <td>0.41</td>\n",
       "    </tr>\n",
       "    <tr>\n",
       "      <th>2018-07-31 06:00:00</th>\n",
       "      <td>75.22</td>\n",
       "      <td>0.44</td>\n",
       "    </tr>\n",
       "  </tbody>\n",
       "</table>\n",
       "</div>"
      ],
      "text/plain": [
       "                     temperature  humidity\n",
       "2018-07-31 02:00:00        92.12      0.31\n",
       "2018-07-31 03:00:00        88.96      0.32\n",
       "2018-07-31 04:00:00        83.53      0.35\n",
       "2018-07-31 05:00:00        77.24      0.41\n",
       "2018-07-31 06:00:00        75.22      0.44"
      ]
     },
     "execution_count": 355,
     "metadata": {},
     "output_type": "execute_result"
    }
   ],
   "source": [
    "stockton_july_data.tail()"
   ]
  },
  {
   "cell_type": "code",
   "execution_count": 351,
   "metadata": {},
   "outputs": [],
   "source": [
    "#note that the default time given on the indices is in UTC. to convert to pacific time, use the localize and \n",
    "#convert tz methods:\n",
    "\n",
    "stockton_july_data_converted = stockton_july_data.tz_localize(\"UTC\").tz_convert(\"US/Pacific\")"
   ]
  },
  {
   "cell_type": "code",
   "execution_count": 382,
   "metadata": {},
   "outputs": [],
   "source": [
    "#write df to csv file for later use:\n",
    "\n",
    "stockton_july_data_converted.to_csv(\"stockton_july_temp_humidity.csv\", encoding='utf-8', index=True)"
   ]
  },
  {
   "cell_type": "code",
   "execution_count": 393,
   "metadata": {},
   "outputs": [],
   "source": [
    "#build stockton dataset for june:\n",
    "\n",
    "stockton_june_data = df_builder(stockton_lat, stockton_lon, 2018, 6, 1, 29)"
   ]
  },
  {
   "cell_type": "code",
   "execution_count": 396,
   "metadata": {},
   "outputs": [],
   "source": [
    "#convert time stamps and save to csv:\n",
    "\n",
    "stockton_june_data_converted = stockton_june_data.tz_localize(\"UTC\").tz_convert(\"US/Pacific\")\n",
    "stockton_june_data_converted.to_csv(\"stockton_june_temp_humidity.csv\", encoding='utf-8', index=True)"
   ]
  },
  {
   "cell_type": "code",
   "execution_count": 425,
   "metadata": {},
   "outputs": [],
   "source": [
    "#generate additional datasets:\n",
    "\n",
    "stockton_may_data = df_builder(stockton_lat, stockton_lon, 2018, 5, 1, 30)\n",
    "stockton_april_data = df_builder(stockton_lat, stockton_lon, 2018, 4, 1, 29)\n",
    "stockton_may_data_converted = stockton_may_data.tz_localize(\"UTC\").tz_convert(\"US/Pacific\")\n",
    "stockton_april_data_converted = stockton_april_data.tz_localize(\"UTC\").tz_convert(\"US/Pacific\")\n",
    "stockton_may_data_converted.to_csv(\"stockton_may_temp_humidity.csv\", encoding='utf-8', index=True)\n",
    "stockton_april_data_converted.to_csv(\"stockton_april_temp_humidity.csv\", encoding='utf-8', index=True)"
   ]
  },
  {
   "cell_type": "code",
   "execution_count": 388,
   "metadata": {},
   "outputs": [
    {
     "data": {
      "image/png": "[encoded data removed]",
      "text/plain": [
       "<Figure size 432x288 with 2 Axes>"
      ]
     },
     "metadata": {},
     "output_type": "display_data"
    }
   ],
   "source": [
    "#visualize temperature and humidity during july for stockton:\n",
    "\n",
    "fig, ax1 = plt.subplots()\n",
    "t = stockton_july_data[\"temperature\"] #np.arange(0.01, 10.0, 0.01)\n",
    "#s1 = np.exp(t)\n",
    "ax1.plot(t,'r-')\n",
    "ax1.set_xlabel('Day')\n",
    "ax1.set_ylabel('Hourly temperature', color='r')\n",
    "ax1.tick_params('y', colors='r')\n",
    "ax2 = ax1.twinx()\n",
    "s2 = stockton_july_data[\"humidity\"]\n",
    "ax2.plot(s2, 'b.')\n",
    "ax2.set_ylabel('Hourly humidity', color='b')\n",
    "ax2.tick_params('y', colors='b')\n",
    "fig.tight_layout()\n",
    "plt.show()\n",
    "\n"
   ]
  },
  {
   "cell_type": "code",
   "execution_count": null,
   "metadata": {},
   "outputs": [],
   "source": [
    "print(np.corrcoef(stockton_july_data[\"temperature\"], stockton_july_data[\"humidity\"]))\n",
    "plt.plot(stockton_july_data[\"temperature\"], stockton_july_data[\"humidity\"], \"g.\")"
   ]
  },
  {
   "cell_type": "code",
   "execution_count": 10,
   "metadata": {},
   "outputs": [],
   "source": [
    "april = pd.read_csv(\"stockton_april_temp_humidity.csv\")\n",
    "may = pd.read_csv(\"stockton_may_temp_humidity.csv\")\n",
    "\n",
    "june = pd.read_csv(\"stockton_june_temp_humidity.csv\")\n",
    "july = pd.read_csv(\"stockton_july_temp_humidity.csv\")\n"
   ]
  },
  {
   "cell_type": "code",
   "execution_count": 13,
   "metadata": {},
   "outputs": [],
   "source": [
    "#generate series for plotting. Here the height for humidity data is scaled. \n",
    "\n",
    "t = april[\"temperature\"].append(may[\"temperature\"]).append(june[\"temperature\"]).append(july[\"temperature\"])\n",
    "s2 = april[\"humidity\"].append(may[\"humidity\"]).append(june[\"humidity\"]).append(july[\"humidity\"])\n",
    "#s2_scale = 100*s2\n"
   ]
  },
  {
   "cell_type": "code",
   "execution_count": 2,
   "metadata": {},
   "outputs": [],
   "source": [
    "#plot data with bokeh:\n",
    "\n",
    "from bokeh.plotting import figure, output_file, show\n",
    "from bokeh.plotting import figure\n",
    "from bokeh.models import LinearAxis, Range1d"
   ]
  },
  {
   "cell_type": "code",
   "execution_count": 10,
   "metadata": {},
   "outputs": [],
   "source": [
    "#set x values as a range (placeholder for dates)\n",
    "\n",
    "x = range(0,len(t))\n",
    "bfig = figure(tools=\"pan,box_zoom,reset,save\", title=\"temp and humidity in stockton\")\n",
    "bfig.line(x, t, line_width = 2, line_color = \"red\")\n",
    "show(bfig)"
   ]
  },
  {
   "cell_type": "code",
   "execution_count": 16,
   "metadata": {},
   "outputs": [],
   "source": [
    "#generate bokeh figure:\n",
    "\n",
    "s1 = figure(tools=\"pan,box_zoom,reset,save\", title=\"temp and humidity in stockton\", plot_width=1000,\n",
    "           plot_height=600)\n",
    "\n",
    "s1.extra_y_ranges = {\"foo\": Range1d(start=0, end=1)}\n",
    "s1.add_layout(LinearAxis(y_range_name=\"foo\"), 'right')         \n",
    "s1.line(x, t, line_width = 2, line_color = \"red\")\n",
    "s1.scatter(x, s2_scale)\n",
    "\n",
    "\n",
    "# Show the combined graphs with twin y axes.\n",
    "show(s1)"
   ]
  },
  {
   "cell_type": "code",
   "execution_count": 15,
   "metadata": {},
   "outputs": [],
   "source": [
    "s2 = figure(tools=\"pan,box_zoom,reset,save\", title=\"temp vs humidity in stockton\", plot_width=1000,\n",
    "           plot_height=600)\n",
    "\n",
    "        \n",
    "\n",
    "s2.scatter(t, s2_scale, color=\"green\")\n",
    "\n",
    "\n",
    "# Show the combined graphs with twin y axes.\n",
    "show(s2)"
   ]
  }
 ],
 "metadata": {
  "kernelspec": {
   "display_name": "Python 3",
   "language": "python",
   "name": "python3"
  },
  "language_info": {
   "codemirror_mode": {
    "name": "ipython",
    "version": 3
   },
   "file_extension": ".py",
   "mimetype": "text/x-python",
   "name": "python",
   "nbconvert_exporter": "python",
   "pygments_lexer": "ipython3",
   "version": "3.6.4"
  }
 },
 "nbformat": 4,
 "nbformat_minor": 2
}
